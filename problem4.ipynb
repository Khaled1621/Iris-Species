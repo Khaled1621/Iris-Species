{
 "cells": [
  {
   "cell_type": "code",
   "execution_count": null,
   "metadata": {},
   "outputs": [],
   "source": [
    "import pandas as pd\n",
    "import torch\n",
    "import torch.nn as nn\n",
    "import torch.nn.functional as F\n",
    "import matplotlib.pyplot as plt\n",
    "import numpy as np\n",
    "from sklearn.model_selection import train_test_split"
   ]
  },
  {
   "cell_type": "code",
   "execution_count": null,
   "metadata": {},
   "outputs": [],
   "source": [
    "def load_iris_data(url):\n",
    "    data_frame = pd.read_csv(url)\n",
    "    data_frame['Species'] = data_frame['Species'].map({'Setosa': 0, 'Versicolor': 1, 'Virginica': 2})\n",
    "    features = data_frame.drop('Species', axis=1).values\n",
    "    labels = data_frame['Species'].values\n",
    "    return train_test_split(features, labels, test_size=0.2, random_state=42)"
   ]
  },
  {
   "cell_type": "markdown",
   "metadata": {},
   "source": [
    "The load_iris_data function serves to read the Iris dataset from a specified URL, encode the species labels into numeric values, and split the dataset into training and testing sets for subsequent model training and evaluation."
   ]
  },
  {
   "cell_type": "code",
   "execution_count": null,
   "metadata": {},
   "outputs": [],
   "source": [
    "class IrisModel(nn.Module):\n",
    "    def __init__(self):\n",
    "        super(IrisModel, self).__init__()\n",
    "        self.hidden1 = nn.Linear(4, 10)\n",
    "        self.hidden2 = nn.Linear(10, 6)\n",
    "        self.dropout = nn.Dropout(0.2)\n",
    "        self.output = nn.Linear(6,3)\n",
    "\n",
    "    def forward(self, x):\n",
    "        x = F.relu(self.hidden1(x))\n",
    "        x = self.dropout(x)\n",
    "        x = F.relu(self.hidden2(x))\n",
    "        return self.output(x)"
   ]
  },
  {
   "cell_type": "markdown",
   "metadata": {},
   "source": [
    "The IrisModel class defines a simple feed-forward neural network with two hidden layers, dropout for regularization, and an output layer for classification. The architecture is designed to effectively learn to classify the Iris dataset by transforming the input features through successive layers, each with its own set of parameters (weights) that the model learns during training."
   ]
  },
  {
   "cell_type": "code",
   "execution_count": null,
   "metadata": {},
   "outputs": [],
   "source": [
    "def train_model(model, criterion, optimizer, train_data, epochs):\n",
    "    model.train()\n",
    "    losses = []\n",
    "    for epoch in range(epochs):\n",
    "        inputs, targets = train_data\n",
    "        optimizer.zero_grad()\n",
    "        outputs = model(inputs)\n",
    "        loss = criterion(outputs, targets)\n",
    "        loss.backward()\n",
    "        optimizer.step()\n",
    "        losses.append(loss.item())\n",
    "        if epoch % 10 == 0:\n",
    "            print(f'Epoch {epoch}/{epochs}, Loss: {loss.item():.4f}')\n",
    "    return losses"
   ]
  },
  {
   "cell_type": "markdown",
   "metadata": {},
   "source": [
    "The train_model function encapsulates the entire training loop for a neural network. It performs forward passes, computes loss, backpropagates errors to update weights, and keeps track of the loss over the epochs to monitor training progress. This structure is essential for supervised learning tasks where the model needs to learn from labeled data."
   ]
  },
  {
   "cell_type": "code",
   "execution_count": null,
   "metadata": {},
   "outputs": [],
   "source": [
    "def evaluate_model(model, test_data):\n",
    "    model.eval()\n",
    "    with torch.no_grad():\n",
    "        inputs, targets = test_data\n",
    "        outputs = model(inputs)\n",
    "        _, predicted = torch.max(outputs, 1)\n",
    "        accuracy = (predicted == targets).float().mean().item()\n",
    "        print(f'Accuracy: {accuracy * 100:.2f}%')"
   ]
  },
  {
   "cell_type": "markdown",
   "metadata": {},
   "source": [
    "The evaluate_model function evaluates a trained neural network model by performing the following key tasks:\n",
    "    - It sets the model to evaluation mode to adjust the behavior of certain layers.\n",
    "    - It performs a forward pass with the test data to get predictions without tracking gradients.\n",
    "    - It calculates and prints the accuracy of the model by comparing predicted class labels against the true labels.\n",
    "This function is essential for assessing the model's performance on unseen data after training, which helps understand its generalization capability."
   ]
  },
  {
   "cell_type": "code",
   "execution_count": null,
   "metadata": {},
   "outputs": [],
   "source": [
    "def plot_decision_boundaries(model, X, y):\n",
    "    x_min, x_max = X[:, 0].min() - 1, X[:, 0].max() + 1\n",
    "    y_min, y_max = X[:, 1].min() - 1, X[:, 1].max() + 1\n",
    "    xx, yy = np.meshgrid(np.arange(x_min, x_max, 0.01),np.arange(y_min, y_max, 0.01))\n",
    "    Z = model(torch.FloatTensor(np.c_[xx.ravel(), yy.ravel(), np.zeros_like(xx.ravel()), np.zeros_like(xx.ravel())]))\n",
    "    _, Z = torch.max(Z, 1)\n",
    "    Z = Z.numpy().reshape(xx.shape)\n",
    "\n",
    "    plt.contourf(xx, yy, Z, alpha=0.8)\n",
    "    plt.scatter(X[:, 0], X[:, 1], c=y, edgecolors='k', marker='o')\n",
    "    plt.xlabel('Feature 1')\n",
    "    plt.ylabel('Feature 2')\n",
    "    plt.title('Decision Boundary of the Iris Classification')\n",
    "    plt.show()"
   ]
  },
  {
   "cell_type": "markdown",
   "metadata": {},
   "source": [
    "The plot_decision_boundaries function visualizes how the trained neural network model classifies the input features by plotting the decision boundaries it has learned. It provides insights into the regions of different classes in the feature space and helps evaluate how well the model generalizes to unseen data. This visualization is especially useful for understanding the behavior of models in two-dimensional spaces like the Iris dataset."
   ]
  },
  {
   "cell_type": "code",
   "execution_count": null,
   "metadata": {},
   "outputs": [],
   "source": [
    "if __name__ == \"__main__\":\n",
    "    url = 'https://gist.githubusercontent.com/curran/a08a1080b88344b0c8a7/raw/0e7a9b0a5d22642a06d3d5b9bcbad9890c8ee534/iris.csv'\n",
    "    X_train, X_test, y_train, y_test = load_iris_data(url)\n",
    "\n",
    "    X_train_tensor = torch.FloatTensor(X_train)\n",
    "    y_train_tensor = torch.LongTensor(y_train)\n",
    "    X_test_tensor = torch.FloatTensor(X_test)\n",
    "    y_test_tensor = torch.LongTensor(y_test)\n",
    "\n",
    "    model = CreativeIrisModel()\n",
    "    criterion = nn.CrossEntropyLoss()\n",
    "    optimizer = torch.optim.Adam(model.parameters(), lr=0.01)\n",
    "\n",
    "    epochs = 100\n",
    "    train_model(model, criterion, optimizer, (X_train_tensor, y_train_tensor), epochs)\n",
    "\n",
    "    evaluate_model(model, (X_test_tensor, y_test_tensor))\n",
    "\n",
    "    plot_decision_boundaries(model, X_test, y_test)"
   ]
  },
  {
   "cell_type": "markdown",
   "metadata": {},
   "source": [
    "This code block encapsulates the entire process of loading the Iris dataset, preprocessing it, initializing a neural network model, training the model, evaluating its performance, and visualizing the classification results. Each function called performs a specific task within this workflow, demonstrating a typical structure for machine learning scripts in Python using PyTorch."
   ]
  },
  {
   "cell_type": "markdown",
   "metadata": {},
   "source": [
    "Note: I couldn't run my code since I have some problems in downloading the libraries. I tried to debug this issue for about two days, but I couldn't find a solution. So, if you want to evaluate my code please just copy paste the code on your computer and it should work just fine."
   ]
  }
 ],
 "metadata": {
  "kernelspec": {
   "display_name": "Python 3",
   "language": "python",
   "name": "python3"
  },
  "language_info": {
   "codemirror_mode": {
    "name": "ipython",
    "version": 3
   },
   "file_extension": ".py",
   "mimetype": "text/x-python",
   "name": "python",
   "nbconvert_exporter": "python",
   "pygments_lexer": "ipython3",
   "version": "3.10.11"
  }
 },
 "nbformat": 4,
 "nbformat_minor": 2
}
